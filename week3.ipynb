{
 "cells": [
  {
   "cell_type": "code",
   "execution_count": null,
   "id": "faae23c5",
   "metadata": {},
   "outputs": [],
   "source": [
    "class Solution(object):\n",
    "    def reverseBits(self, n):\n",
    "        \"\"\"\n",
    "        :type n: int\n",
    "        :rtype: int\n",
    "        \"\"\"\n",
    "        MAX = ((2**31)-2)\n",
    "        if n%2==0 and 0<=n<=MAX: # these are the constraints.\n",
    "          binary = format(n, \"032b\") # this converts an integer into binary of 32bits \n",
    "          y = binary[::-1] # the binary form is reversed\n",
    "          s = int(y, 2) # this changes the reversed binary to the integer for.'2' is to indicate that it is in binary form.\n",
    "          return s \n",
    "        else :\n",
    "            return 0\n",
    "\n",
    "\n",
    "        "
   ]
  },
  {
   "cell_type": "code",
   "execution_count": null,
   "id": "7e0aee92",
   "metadata": {},
   "outputs": [
    {
     "name": "stdout",
     "output_type": "stream",
     "text": [
      "1073741822\n"
     ]
    }
   ],
   "source": [
    "sol = Solution()\n",
    "print(sol.reverseBits(2147483644))\n",
    "\"\"\"\n",
    "2147483644 is even and 0<=2147483644<=MAX\n",
    "The number is changed to its binary form\n",
    "then reversed\n",
    "the reversed binary is then changed to an integer.\n",
    "\"\"\""
   ]
  },
  {
   "cell_type": "code",
   "execution_count": 57,
   "id": "2ef220de",
   "metadata": {},
   "outputs": [],
   "source": [
    "\"\"\"Leetcode : Check if numbers are ascending in a sentence\"\"\"\n",
    "class Solution(object):\n",
    "    def areNumbersAscending(self, s):\n",
    "        \"\"\"\n",
    "        :type s: str\n",
    "        :rtype: bool\n",
    "        \"\"\"\n",
    "        tokens=s.split()\n",
    "        \n",
    "        prev = 0\n",
    "        for token in tokens:\n",
    "            if token.isdigit():\n",
    "                curr=int(token)\n",
    "                if curr <= prev:\n",
    "                    return False\n",
    "                else:\n",
    "                    prev=curr\n",
    "        return  True\n",
    "            \n",
    "            "
   ]
  },
  {
   "cell_type": "code",
   "execution_count": 58,
   "id": "e745e38b",
   "metadata": {},
   "outputs": [
    {
     "name": "stdout",
     "output_type": "stream",
     "text": [
      "False\n"
     ]
    }
   ],
   "source": [
    "s=\"hello world 5 x 5\"\n",
    "sol = Solution()\n",
    "print (sol.areNumbersAscending(s))"
   ]
  },
  {
   "cell_type": "code",
   "execution_count": 6,
   "id": "ba8d0b7e",
   "metadata": {},
   "outputs": [],
   "source": [
    "\"\"\"Leetcode Problem: Plus One\"\"\"\n",
    "def plusOne(digits):\n",
    "        \"\"\"\n",
    "        :type digits: List[int]\n",
    "        :rtype: List[int]\n",
    "        \"\"\"\n",
    "        num= int(\"\".join(map(str, digits))) # changes the array of numbers into integer form\n",
    "        num+=1 # adds 1 to the integer\n",
    "        arr= [int(digit) for digit in str(num)]# changes it back to array\n",
    "        return arr"
   ]
  },
  {
   "cell_type": "code",
   "execution_count": 7,
   "id": "dacdfd23",
   "metadata": {},
   "outputs": [
    {
     "name": "stdout",
     "output_type": "stream",
     "text": [
      "[3, 4, 5, 7]\n"
     ]
    }
   ],
   "source": [
    "print (plusOne([3, 4, 5, 6]))"
   ]
  },
  {
   "cell_type": "code",
   "execution_count": null,
   "id": "2607fee1",
   "metadata": {},
   "outputs": [],
   "source": [
    "def addBinary(a, b):\n",
    "        \"\"\"\n",
    "        :type a: str\n",
    "        :type b: str\n",
    "        :rtype: str\n",
    "        \"\"\"\n",
    "        aa= int(a, 2) # changes a to integer\n",
    "        bb= int(b, 2)# changes b to integer\n",
    "        x = aa+bb# adds the integer form of a ad b\n",
    "        xx= bin(x)[2:]  # changes the result of the addition to binary form\n",
    "        return xx"
   ]
  },
  {
   "cell_type": "code",
   "execution_count": 10,
   "id": "94a9ad3b",
   "metadata": {},
   "outputs": [
    {
     "name": "stdout",
     "output_type": "stream",
     "text": [
      "1101100\n"
     ]
    }
   ],
   "source": [
    "print (addBinary(\"10111\", \"1010101\"))"
   ]
  },
  {
   "cell_type": "code",
   "execution_count": 11,
   "id": "de0395b8",
   "metadata": {},
   "outputs": [],
   "source": [
    "\"\"\"Leetcode problem: Single Number\"\"\"\n",
    "\"\"\"This gives the output as a number that has no duplicate in the array\"\"\"\n",
    "\"\"\"Solved using XOR method\"\"\"\n",
    "def singleNumber(nums):\n",
    "        \"\"\"\n",
    "        :type nums: List[int]\n",
    "        :rtype: int\n",
    "        \"\"\"\n",
    "        if len(nums)%2 == 0:\n",
    "              return False\n",
    "        else:\n",
    "            x = 0\n",
    "            for num in nums :\n",
    "                 x ^=num # XOR  \n",
    "            return x"
   ]
  },
  {
   "cell_type": "code",
   "execution_count": null,
   "id": "c5861d30",
   "metadata": {},
   "outputs": [
    {
     "name": "stdout",
     "output_type": "stream",
     "text": [
      "6\n"
     ]
    },
    {
     "data": {
      "text/plain": [
       "'\\n4^6^8^9^8^4^9\\n'"
      ]
     },
     "execution_count": 14,
     "metadata": {},
     "output_type": "execute_result"
    }
   ],
   "source": [
    "print(singleNumber([4, 6, 8, 9, 8, 4, 9]))\n",
    "\"\"\"\n",
    "4^6^8^9^8^4^9\n",
    "(4^4)^6^(8^8)^(9^9)\n",
    "remember\n",
    "x^x = 0\n",
    "X^0 = x\n",
    "hence\n",
    "0^6^0^0 = 6\n",
    "\"\"\""
   ]
  }
 ],
 "metadata": {
  "kernelspec": {
   "display_name": ".venv (3.13.3)",
   "language": "python",
   "name": "python3"
  },
  "language_info": {
   "codemirror_mode": {
    "name": "ipython",
    "version": 3
   },
   "file_extension": ".py",
   "mimetype": "text/x-python",
   "name": "python",
   "nbconvert_exporter": "python",
   "pygments_lexer": "ipython3",
   "version": "3.13.3"
  }
 },
 "nbformat": 4,
 "nbformat_minor": 5
}
