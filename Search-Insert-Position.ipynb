{
 "cells": [
  {
   "cell_type": "code",
   "execution_count": null,
   "id": "8197ff3b",
   "metadata": {},
   "outputs": [],
   "source": [
    "\"\"\"Given a sorted array and a target value, return the index if the target is found. If not, return the index where it would be if it were inserted in order.  \"\"\"\n",
    "\n",
    "class Solution(object):\n",
    "    def searchInsert(self, nums, target):\n",
    "        \"\"\"\n",
    "        :type nums: List[int]\n",
    "        :type target: int\n",
    "        :rtype: int\n",
    "        \"\"\"\n",
    "        left, right=0, len(nums) - 1\n",
    "        while left <= right:\n",
    "            mid = (left + right)// 2\n",
    "            if nums[mid] == target:\n",
    "                return mid\n",
    "            elif nums[mid] < target:\n",
    "                left = mid + 1\n",
    "            else:\n",
    "                right = mid - 1\n",
    "        return left"
   ]
  }
 ],
 "metadata": {
  "language_info": {
   "name": "python"
  }
 },
 "nbformat": 4,
 "nbformat_minor": 5
}
