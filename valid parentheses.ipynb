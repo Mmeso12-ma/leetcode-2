{
 "cells": [
  {
   "cell_type": "code",
   "execution_count": null,
   "id": "675c38ab",
   "metadata": {},
   "outputs": [],
   "source": [
    "\"\"\"Given a string containing just the characters '(', ')', '{', '}', '[' and ']', determine if the input string is valid.\"\"\"\n",
    "\"\"\"An input string is valid if:\"\"\"\n",
    "\"\"\"Open brackets must be closed by the same type of brackets.\"\"\"\n",
    "\"\"\"Open brackets must be closed in the correct order.\"\"\"\n",
    "\n",
    "class Solution(object):\n",
    "    def isValid(self, s):\n",
    "        \"\"\"\n",
    "        :type s: str\n",
    "        :rtype: bool\n",
    "        \"\"\"\n",
    "        stack=[]\n",
    "        for char in s:\n",
    "            if char == '(' or char == '{' or char =='[':\n",
    "                stack.append(char)\n",
    "            elif char == ')':\n",
    "                    if not stack or stack[-1] != '(':\n",
    "                        return False\n",
    "                    stack.pop()\n",
    "            elif char =='}':\n",
    "                    if not stack or stack[-1] !='{':\n",
    "                        return  False\n",
    "                    stack.pop()\n",
    "            elif char == ']':\n",
    "                    if not stack or stack[-1] !='[':\n",
    "                        return False\n",
    "                    stack.pop()\n",
    "        return len(stack) == 0"
   ]
  }
 ],
 "metadata": {
  "language_info": {
   "name": "python"
  }
 },
 "nbformat": 4,
 "nbformat_minor": 5
}
